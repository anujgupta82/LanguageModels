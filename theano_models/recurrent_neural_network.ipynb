{
 "cells": [
  {
   "cell_type": "markdown",
   "metadata": {},
   "source": [
    "#### solving the parity problem using RNN"
   ]
  },
  {
   "cell_type": "code",
   "execution_count": 1,
   "metadata": {
    "collapsed": true,
    "deletable": true,
    "editable": true
   },
   "outputs": [],
   "source": [
    "%matplotlib inline\n",
    "%load_ext autoreload\n",
    "%autoreload 2"
   ]
  },
  {
   "cell_type": "code",
   "execution_count": 2,
   "metadata": {
    "collapsed": true,
    "deletable": true,
    "editable": true
   },
   "outputs": [],
   "source": [
    "import theano\n",
    "import theano.tensor as T \n",
    "import numpy as np\n",
    "import matplotlib.pyplot as plt "
   ]
  },
  {
   "cell_type": "markdown",
   "metadata": {},
   "source": [
    "##### RNN"
   ]
  },
  {
   "cell_type": "code",
   "execution_count": 29,
   "metadata": {
    "collapsed": false,
    "deletable": true,
    "editable": true,
    "scrolled": false
   },
   "outputs": [],
   "source": [
    "import theano\n",
    "import theano.tensor as T\n",
    "import numpy as np\n",
    "import matplotlib.pyplot as plt\n",
    "\n",
    "from sklearn.utils import shuffle\n",
    "from util import init_weight, all_parity_pairs_with_sequence_labels\n",
    "\n",
    "\n",
    "class SimpleRNN:\n",
    "    def __init__(self, M):\n",
    "        self.M = M # hidden layer size\n",
    "\n",
    "    def fit(self, X, Y, learning_rate=10e-1, mu=0.99, reg=1.0, activation=T.tanh, epochs=100, show_fig=False):\n",
    "        D = X[0].shape[1] # X is of size N x T(n) x D\n",
    "        K = len(set(Y.flatten()))\n",
    "        N = len(Y)\n",
    "        M = self.M\n",
    "        self.f = activation\n",
    "\n",
    "        # initial weights\n",
    "        Wx = init_weight(D, M)\n",
    "        Wh = init_weight(M, M)\n",
    "        bh = np.zeros(M)\n",
    "        h0 = np.zeros(M)\n",
    "        Wo = init_weight(M, K)\n",
    "        bo = np.zeros(K)\n",
    "\n",
    "        # make them theano shared\n",
    "        self.Wx = theano.shared(Wx)\n",
    "        self.Wh = theano.shared(Wh)\n",
    "        self.bh = theano.shared(bh)\n",
    "        self.h0 = theano.shared(h0)\n",
    "        self.Wo = theano.shared(Wo)\n",
    "        self.bo = theano.shared(bo)\n",
    "        self.params = [self.Wx, self.Wh, self.bh, self.h0, self.Wo, self.bo]\n",
    "\n",
    "        thX = T.fmatrix('X')\n",
    "        thY = T.ivector('Y')\n",
    "\n",
    "        def recurrence(x_t, h_t1):\n",
    "            h_t = self.f(x_t.dot(self.Wx) + h_t1.dot(self.Wh) + self.bh)\n",
    "            y_t = T.nnet.softmax(h_t.dot(self.Wo) + self.bo)\n",
    "            return h_t, y_t\n",
    "\n",
    "        [h, y], _ = theano.scan(\n",
    "            fn=recurrence,\n",
    "            outputs_info=[self.h0, None],\n",
    "            sequences=thX,\n",
    "            n_steps=thX.shape[0],\n",
    "        )\n",
    "\n",
    "        py_x = y[:, 0, :]\n",
    "        prediction = T.argmax(py_x, axis=1)\n",
    "\n",
    "        cost = -T.mean(T.log(py_x[T.arange(thY.shape[0]), thY]))\n",
    "        grads = T.grad(cost, self.params)\n",
    "        dparams = [theano.shared(p.get_value()*0) for p in self.params]\n",
    "\n",
    "        updates = [\n",
    "            (p, p + mu*dp - learning_rate*g) for p, dp, g in zip(self.params, dparams, grads)\n",
    "        ] + [\n",
    "            (dp, mu*dp - learning_rate*g) for dp, g in zip(dparams, grads)\n",
    "        ]\n",
    "\n",
    "        self.predict_op = theano.function(inputs=[thX], outputs=prediction)\n",
    "        self.train_op = theano.function(\n",
    "            inputs=[thX, thY],\n",
    "            outputs=[cost, prediction, y],\n",
    "            updates=updates\n",
    "        )\n",
    "\n",
    "        costs = []\n",
    "        for i in xrange(epochs):\n",
    "            X, Y = shuffle(X, Y)\n",
    "            n_correct = 0\n",
    "            cost = 0\n",
    "            for j in xrange(N):\n",
    "                c, p, rout = self.train_op(X[j], Y[j])\n",
    "                cost += c\n",
    "                if p[-1] == Y[j,-1]:\n",
    "                    n_correct += 1\n",
    "            print \"i:\", i, \"cost:\", cost, \"classification rate:\", (float(n_correct)/N)\n",
    "            costs.append(cost)\n",
    "            if n_correct == N:\n",
    "                break\n",
    "\n",
    "        if show_fig:\n",
    "            plt.plot(costs)\n",
    "            plt.show()\n",
    "\n",
    "\n",
    "def parity(B=12, learning_rate=10e-5, epochs=200):\n",
    "    X, Y = all_parity_pairs_with_sequence_labels(B)\n",
    "\n",
    "    rnn = SimpleRNN(4)\n",
    "    rnn.fit(X, Y, learning_rate=learning_rate, epochs=epochs, activation=T.tanh, show_fig=True)  \n",
    "    return rnn"
   ]
  },
  {
   "cell_type": "code",
   "execution_count": 30,
   "metadata": {
    "collapsed": false,
    "deletable": true,
    "editable": true
   },
   "outputs": [
    {
     "name": "stdout",
     "output_type": "stream",
     "text": [
      "i: 0 cost: 2829.85521365 classification rate: 0.499268292683\n",
      "i: 1 cost: 2824.08234642 classification rate: 0.499512195122\n",
      "i: 2 cost: 2807.0819149 classification rate: 0.501463414634\n",
      "i: 3 cost: 2704.27443548 classification rate: 0.499756097561\n",
      "i: 4 cost: 2486.09050401 classification rate: 0.50487804878\n",
      "i: 5 cost: 2389.73036241 classification rate: 0.504634146341\n",
      "i: 6 cost: 2329.2951929 classification rate: 0.502682926829\n",
      "i: 7 cost: 2261.31500294 classification rate: 0.497317073171\n",
      "i: 8 cost: 2196.34388926 classification rate: 0.5\n",
      "i: 9 cost: 2163.9086855 classification rate: 0.502926829268\n",
      "i: 10 cost: 2148.56855581 classification rate: 0.501707317073\n",
      "i: 11 cost: 2140.48522751 classification rate: 0.501707317073\n",
      "i: 12 cost: 2134.58090799 classification rate: 0.503414634146\n",
      "i: 13 cost: 2131.71618167 classification rate: 0.504146341463\n",
      "i: 14 cost: 2128.84487528 classification rate: 0.503414634146\n",
      "i: 15 cost: 2126.57516589 classification rate: 0.503414634146\n",
      "i: 16 cost: 2124.93462779 classification rate: 0.503414634146\n",
      "i: 17 cost: 2123.98450481 classification rate: 0.503414634146\n",
      "i: 18 cost: 2122.46473078 classification rate: 0.504390243902\n",
      "i: 19 cost: 2122.05105294 classification rate: 0.503414634146\n",
      "i: 20 cost: 2121.06764084 classification rate: 0.503414634146\n",
      "i: 21 cost: 2120.28834431 classification rate: 0.503414634146\n",
      "i: 22 cost: 2119.90481607 classification rate: 0.503414634146\n",
      "i: 23 cost: 2118.54018471 classification rate: 0.503414634146\n",
      "i: 24 cost: 2112.60429019 classification rate: 0.503414634146\n",
      "i: 25 cost: 919.851139885 classification rate: 0.805609756098\n",
      "i: 26 cost: 63.1441892279 classification rate: 1.0\n"
     ]
    },
    {
     "data": {
      "image/png": "[encoded data removed]",
      "text/plain": [
       "<matplotlib.figure.Figure at 0x1182f0b50>"
      ]
     },
     "metadata": {},
     "output_type": "display_data"
    }
   ],
   "source": [
    "rnn = parity()"
   ]
  },
  {
   "cell_type": "code",
   "execution_count": 31,
   "metadata": {
    "collapsed": false
   },
   "outputs": [
    {
     "data": {
      "text/plain": [
       "array([1, 1, 0, 0, 1])"
      ]
     },
     "execution_count": 31,
     "metadata": {},
     "output_type": "execute_result"
    }
   ],
   "source": [
    "rnn.predict_op(np.array([1, 0, 1, 0, 1], dtype=np.float32).reshape(-1, 1))"
   ]
  },
  {
   "cell_type": "code",
   "execution_count": null,
   "metadata": {
    "collapsed": true
   },
   "outputs": [],
   "source": []
  },
  {
   "cell_type": "code",
   "execution_count": null,
   "metadata": {
    "collapsed": true
   },
   "outputs": [],
   "source": []
  },
  {
   "cell_type": "markdown",
   "metadata": {},
   "source": [
    "##### GRU"
   ]
  },
  {
   "cell_type": "code",
   "execution_count": 42,
   "metadata": {
    "collapsed": true
   },
   "outputs": [],
   "source": [
    "class GRU:\n",
    "    def __init__(self, M):\n",
    "        self.M = M # hidden layer size\n",
    "\n",
    "    def fit(self, X, Y, learning_rate=10e-1, mu=0.99, reg=1.0, activation=T.tanh, epochs=100, show_fig=False):\n",
    "        D = X[0].shape[1] \n",
    "        K = len(set(Y.flatten()))\n",
    "        N = len(Y)\n",
    "        M = self.M\n",
    "        self.f = activation\n",
    "\n",
    "        Wxr = init_weight(D, M)\n",
    "        Whr = init_weight(M, M)\n",
    "        br  = np.zeros(M)\n",
    "        Wxz = init_weight(D, M)\n",
    "        Whz = init_weight(M, M)\n",
    "        bz  = np.zeros(M)\n",
    "        Wxh = init_weight(D, M)\n",
    "        Whh = init_weight(M, M)\n",
    "        bh  = np.zeros(M)\n",
    "        h0  = np.zeros(M)\n",
    "        Wo = init_weight(M, K)\n",
    "        bo = np.zeros(K)\n",
    "\n",
    "        # theano vars\n",
    "        self.Wxr = theano.shared(Wxr)\n",
    "        self.Whr = theano.shared(Whr)\n",
    "        self.br  = theano.shared(br)\n",
    "        self.Wxz = theano.shared(Wxz)\n",
    "        self.Whz = theano.shared(Whz)\n",
    "        self.bz  = theano.shared(bz)\n",
    "        self.Wxh = theano.shared(Wxh)\n",
    "        self.Whh = theano.shared(Whh)\n",
    "        self.bh  = theano.shared(bh)\n",
    "        self.h0  = theano.shared(h0)\n",
    "        self.Wo = theano.shared(Wo)\n",
    "        self.bo = theano.shared(bo)\n",
    "        self.params = [self.Wxr, self.Whr, self.br, self.Wxz, self.Whz, self.bz, self.Wxh, self.Whh, self.bh, \n",
    "                       self.h0, self.Wo, self.bo]\n",
    "\n",
    "        thX = T.fmatrix('X')\n",
    "        thY = T.ivector('Y')\n",
    "\n",
    "        def recurrence(x_t, h_t1):\n",
    "            r_t = T.nnet.nnet.sigmoid(x_t.dot(self.Wxr) + h_t1.dot(self.Whr) + self.br)\n",
    "            z_t = T.nnet.nnet.sigmoid(x_t.dot(self.Wxz) + h_t1.dot(self.Whz) + self.bz)\n",
    "            hhat_t = self.f(x_t.dot(self.Wxh) + (r_t * h_t1).dot(self.Whh) + self.bh)\n",
    "            h_t = ( 1 - z_t) * h_t1 + z_t * hhat_t\n",
    "            y_t = T.nnet.softmax(h_t.dot(self.Wo) + self.bo)\n",
    "            return h_t, y_t\n",
    "\n",
    "        [h, y], _ = theano.scan(\n",
    "            fn=recurrence,\n",
    "            outputs_info=[self.h0, None],\n",
    "            sequences=thX,\n",
    "            n_steps=thX.shape[0],\n",
    "        )\n",
    "\n",
    "        py_x = y[:, 0, :]\n",
    "        prediction = T.argmax(py_x, axis=1)\n",
    "\n",
    "        cost = -T.mean(T.log(py_x[T.arange(thY.shape[0]), thY]))\n",
    "        grads = T.grad(cost, self.params)\n",
    "        dparams = [theano.shared(p.get_value()*0) for p in self.params]\n",
    "\n",
    "        updates = [\n",
    "            (p, p + mu*dp - learning_rate*g) for p, dp, g in zip(self.params, dparams, grads)\n",
    "        ] + [\n",
    "            (dp, mu*dp - learning_rate*g) for dp, g in zip(dparams, grads)\n",
    "        ]\n",
    "\n",
    "        self.predict_op = theano.function(inputs=[thX], outputs=prediction)\n",
    "        self.train_op = theano.function(\n",
    "            inputs=[thX, thY],\n",
    "            outputs=[cost, prediction, y],\n",
    "            updates=updates\n",
    "        )\n",
    "\n",
    "        costs = []\n",
    "        for i in xrange(epochs):\n",
    "            X, Y = shuffle(X, Y)\n",
    "            n_correct = 0\n",
    "            cost = 0\n",
    "            for j in xrange(N):\n",
    "                c, p, rout = self.train_op(X[j], Y[j])\n",
    "                cost += c\n",
    "                if p[-1] == Y[j,-1]:\n",
    "                    n_correct += 1\n",
    "            print \"i:\", i, \"cost:\", cost, \"classification rate:\", (float(n_correct)/N)\n",
    "            costs.append(cost)\n",
    "            if n_correct == N:\n",
    "                break\n",
    "\n",
    "        if show_fig:\n",
    "            plt.plot(costs)\n",
    "            plt.show()\n",
    "\n",
    "\n",
    "def parity_gru(B=12, learning_rate=10e-5, epochs=200):\n",
    "    X, Y = all_parity_pairs_with_sequence_labels(B)\n",
    "\n",
    "    gru = GRU(4)\n",
    "    gru.fit(X, Y, learning_rate=learning_rate, epochs=epochs, activation=T.tanh, show_fig=True)  \n",
    "    return gru"
   ]
  },
  {
   "cell_type": "code",
   "execution_count": 44,
   "metadata": {
    "collapsed": false
   },
   "outputs": [
    {
     "name": "stdout",
     "output_type": "stream",
     "text": [
      "i: 0 cost: 2838.82693421 classification rate: 0.494390243902\n",
      "i: 1 cost: 2829.40506202 classification rate: 0.500487804878\n",
      "i: 2 cost: 2823.16730698 classification rate: 0.501463414634\n",
      "i: 3 cost: 2813.97392561 classification rate: 0.502926829268\n",
      "i: 4 cost: 2793.02280711 classification rate: 0.499268292683\n",
      "i: 5 cost: 2738.52835083 classification rate: 0.497804878049\n",
      "i: 6 cost: 2629.55853745 classification rate: 0.504146341463\n",
      "i: 7 cost: 1984.42380188 classification rate: 0.614146341463\n",
      "i: 8 cost: 112.742301358 classification rate: 0.999024390244\n",
      "i: 9 cost: 35.1580380061 classification rate: 1.0\n"
     ]
    },
    {
     "data": {
      "image/png": "[encoded data removed]",
      "text/plain": [
       "<matplotlib.figure.Figure at 0x11a2409d0>"
      ]
     },
     "metadata": {},
     "output_type": "display_data"
    }
   ],
   "source": [
    "gru = parity_gru()"
   ]
  },
  {
   "cell_type": "code",
   "execution_count": 45,
   "metadata": {
    "collapsed": false
   },
   "outputs": [
    {
     "data": {
      "text/plain": [
       "array([1, 1, 0, 0, 1])"
      ]
     },
     "execution_count": 45,
     "metadata": {},
     "output_type": "execute_result"
    }
   ],
   "source": [
    "gru.predict_op(np.array([1, 0, 1, 0, 1], dtype=np.float32).reshape(-1, 1))"
   ]
  },
  {
   "cell_type": "code",
   "execution_count": null,
   "metadata": {
    "collapsed": true
   },
   "outputs": [],
   "source": []
  },
  {
   "cell_type": "code",
   "execution_count": null,
   "metadata": {
    "collapsed": true
   },
   "outputs": [],
   "source": []
  },
  {
   "cell_type": "code",
   "execution_count": null,
   "metadata": {
    "collapsed": true
   },
   "outputs": [],
   "source": []
  },
  {
   "cell_type": "markdown",
   "metadata": {},
   "source": [
    "##### LSTM"
   ]
  },
  {
   "cell_type": "code",
   "execution_count": 51,
   "metadata": {
    "collapsed": true
   },
   "outputs": [],
   "source": [
    "class LSTM:\n",
    "    def __init__(self, M):\n",
    "        self.M = M # hidden layer size\n",
    "\n",
    "    def fit(self, X, Y, learning_rate=10e-1, mu=0.99, reg=1.0, activation=T.tanh, epochs=100, show_fig=False):\n",
    "        D = X[0].shape[1] \n",
    "        K = len(set(Y.flatten()))\n",
    "        N = len(Y)\n",
    "        M = self.M\n",
    "        self.f = activation\n",
    "\n",
    "        # weights for i_t\n",
    "        Wxi = init_weight(D, M)\n",
    "        Whi = init_weight(M, M)\n",
    "        Wci = init_weight(M, M)\n",
    "        bi  = np.zeros(M)\n",
    "        \n",
    "        # weights for f_t \n",
    "        Wxf = init_weight(D, M)\n",
    "        Whf = init_weight(M, M)\n",
    "        Wcf = init_weight(M, M)\n",
    "        bf = np.zeros(M)\n",
    "        \n",
    "        # weights for c_t\n",
    "        Wxc = init_weight(D, M)\n",
    "        Whc = init_weight(M, M)\n",
    "        bc = np.zeros(M)\n",
    "        \n",
    "        # weights for o_t \n",
    "        Wxo = init_weight(D, M)\n",
    "        Who = init_weight(M, M)\n",
    "        Wco = init_weight(M, M)\n",
    "        bo = np.zeros(M)\n",
    "        \n",
    "        # Initial values \n",
    "        c0 = np.zeros(M)\n",
    "        h0 = np.zeros(M)\n",
    "        \n",
    "        Woo = init_weight(M, K)\n",
    "        boo = np.zeros(K)\n",
    "        \n",
    "        # weights for i_t\n",
    "        self.Wxi = theano.shared(Wxi)\n",
    "        self.Whi = theano.shared(Whi)\n",
    "        self.Wci = theano.shared(Wci)\n",
    "        self.bi = theano.shared(bi)\n",
    "        \n",
    "        # weights for f_t\n",
    "        self.Wxf = theano.shared(Wxf)\n",
    "        self.Whf = theano.shared(Whf)\n",
    "        self.Wcf = theano.shared(Wcf)\n",
    "        self.bf = theano.shared(bf)\n",
    "        \n",
    "        # weights for c_t \n",
    "        self.Wxc = theano.shared(Wxc)\n",
    "        self.Whc = theano.shared(Whc)\n",
    "        self.bc = theano.shared(bc)\n",
    "        \n",
    "        # weights for o_t\n",
    "        self.Wxo = theano.shared(Wxo)\n",
    "        self.Who = theano.shared(Who)\n",
    "        self.Wco = theano.shared(Wco)\n",
    "        self.bo = theano.shared(bo)\n",
    "        \n",
    "        # Initial weights \n",
    "        self.c0 = theano.shared(c0)\n",
    "        self.h0 = theano.shared(h0)\n",
    "        \n",
    "        self.Woo = theano.shared(Woo)\n",
    "        self.boo = theano.shared(boo)\n",
    "        \n",
    "        self.params = [self.Wxi, self.Whi, self.Wci, self.bi, \\\n",
    "                       self.Wxf, self.Whf, self.Wcf, self.bf, \\\n",
    "                       self.Wxc, self.Whc, self.bc, \\\n",
    "                       self.Wxo, self.Who, self.Wco, self.bo, \\\n",
    "                       self.c0, self.h0, self.Woo, self.boo]\n",
    "        \n",
    "        thX = T.fmatrix('X')\n",
    "        thY = T.ivector('Y')\n",
    "\n",
    "        def recurrence(x_t, h_t1, c_t1):\n",
    "            i_t = T.nnet.sigmoid(x_t.dot(self.Wxi) + h_t1.dot(self.Whi) + c_t1.dot(self.Wci) + self.bi)\n",
    "            f_t = T.nnet.sigmoid(x_t.dot(self.Wxf) + h_t1.dot(self.Whf) + c_t1.dot(self.Wcf) + self.bf)\n",
    "            c_t = f_t * c_t1 + i_t * T.tanh(x_t.dot(self.Wxc) + h_t1.dot(self.Whc) + self.bc)\n",
    "            o_t = T.nnet.sigmoid(x_t.dot(self.Wxo) + h_t1.dot(self.Who) + c_t.dot(self.Wco) + self.bo)\n",
    "            h_t = o_t * T.tanh(c_t)\n",
    "            y_t = T.nnet.softmax(h_t.dot(self.Woo) + self.boo)\n",
    "            return h_t, c_t, y_t\n",
    "    \n",
    "        \n",
    "        [h, c, y], _ = theano.scan(\n",
    "            fn=recurrence,\n",
    "            outputs_info=[self.h0, self.c0, None],\n",
    "            sequences=thX,\n",
    "            n_steps=thX.shape[0],\n",
    "        )\n",
    "\n",
    "        py_x = y[:, 0, :]\n",
    "        prediction = T.argmax(py_x, axis=1)\n",
    "\n",
    "        cost = -T.mean(T.log(py_x[T.arange(thY.shape[0]), thY]))\n",
    "        grads = T.grad(cost, self.params)\n",
    "        dparams = [theano.shared(p.get_value()*0) for p in self.params]\n",
    "\n",
    "        updates = [\n",
    "            (p, p + mu*dp - learning_rate*g) for p, dp, g in zip(self.params, dparams, grads)\n",
    "        ] + [\n",
    "            (dp, mu*dp - learning_rate*g) for dp, g in zip(dparams, grads)\n",
    "        ]\n",
    "\n",
    "        self.predict_op = theano.function(inputs=[thX], outputs=prediction)\n",
    "        self.train_op = theano.function(\n",
    "            inputs=[thX, thY],\n",
    "            outputs=[cost, prediction, y],\n",
    "            updates=updates\n",
    "        )\n",
    "\n",
    "        costs = []\n",
    "        for i in xrange(epochs):\n",
    "            X, Y = shuffle(X, Y)\n",
    "            n_correct = 0\n",
    "            cost = 0\n",
    "            for j in xrange(N):\n",
    "                c, p, rout = self.train_op(X[j], Y[j])\n",
    "                cost += c\n",
    "                if p[-1] == Y[j,-1]:\n",
    "                    n_correct += 1\n",
    "            print \"i:\", i, \"cost:\", cost, \"classification rate:\", (float(n_correct)/N)\n",
    "            costs.append(cost)\n",
    "            if n_correct == N:\n",
    "                break\n",
    "\n",
    "        if show_fig:\n",
    "            plt.plot(costs)\n",
    "            plt.show()\n",
    "\n",
    "\n",
    "def parity_lstm(B=12, learning_rate=10e-5, epochs=200):\n",
    "    X, Y = all_parity_pairs_with_sequence_labels(B)\n",
    "\n",
    "    lstm = LSTM(4)\n",
    "    lstm.fit(X, Y, learning_rate=learning_rate, epochs=epochs, activation=T.tanh, show_fig=True)  \n",
    "    return lstm"
   ]
  },
  {
   "cell_type": "code",
   "execution_count": 52,
   "metadata": {
    "collapsed": false
   },
   "outputs": [
    {
     "name": "stdout",
     "output_type": "stream",
     "text": [
      "i: 0 cost: 2846.20684849 classification rate: 0.508048780488\n",
      "i: 1 cost: 2839.93866702 classification rate: 0.490975609756\n",
      "i: 2 cost: 2833.70456889 classification rate: 0.49512195122\n",
      "i: 3 cost: 2826.48753154 classification rate: 0.498292682927\n",
      "i: 4 cost: 2814.91195755 classification rate: 0.503170731707\n",
      "i: 5 cost: 2795.00510416 classification rate: 0.498780487805\n",
      "i: 6 cost: 2749.02066143 classification rate: 0.499024390244\n",
      "i: 7 cost: 2640.5532041 classification rate: 0.5\n",
      "i: 8 cost: 2511.1313085 classification rate: 0.494146341463\n",
      "i: 9 cost: 2433.50354199 classification rate: 0.495853658537\n",
      "i: 10 cost: 2378.09531217 classification rate: 0.506829268293\n",
      "i: 11 cost: 2303.49945155 classification rate: 0.5\n",
      "i: 12 cost: 2161.94503824 classification rate: 0.497804878049\n",
      "i: 13 cost: 1149.92452173 classification rate: 0.738536585366\n",
      "i: 14 cost: 129.421600924 classification rate: 1.0\n"
     ]
    },
    {
     "data": {
      "image/png": "[encoded data removed]",
      "text/plain": [
       "<matplotlib.figure.Figure at 0x11bd012d0>"
      ]
     },
     "metadata": {},
     "output_type": "display_data"
    }
   ],
   "source": [
    "lstm = parity_lstm()"
   ]
  },
  {
   "cell_type": "code",
   "execution_count": 53,
   "metadata": {
    "collapsed": false
   },
   "outputs": [
    {
     "data": {
      "text/plain": [
       "array([1, 1, 0, 0, 1])"
      ]
     },
     "execution_count": 53,
     "metadata": {},
     "output_type": "execute_result"
    }
   ],
   "source": [
    "lstm.predict_op(np.array([1, 0, 1, 0, 1], dtype=np.float32).reshape(-1, 1))"
   ]
  }
 ],
 "metadata": {
  "kernelspec": {
   "display_name": "deep_learning_kernel",
   "language": "python",
   "name": "deep_learning_kernel"
  },
  "language_info": {
   "codemirror_mode": {
    "name": "ipython",
    "version": 2
   },
   "file_extension": ".py",
   "mimetype": "text/x-python",
   "name": "python",
   "nbconvert_exporter": "python",
   "pygments_lexer": "ipython2",
   "version": "2.7.12"
  }
 },
 "nbformat": 4,
 "nbformat_minor": 2
}
