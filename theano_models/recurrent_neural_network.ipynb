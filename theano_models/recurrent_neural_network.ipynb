{
 "cells": [
  {
   "cell_type": "code",
   "execution_count": 1,
   "metadata": {
    "collapsed": true,
    "deletable": true,
    "editable": true
   },
   "outputs": [],
   "source": [
    "%matplotlib inline\n",
    "%load_ext autoreload\n",
    "%autoreload 2"
   ]
  },
  {
   "cell_type": "code",
   "execution_count": 2,
   "metadata": {
    "collapsed": true,
    "deletable": true,
    "editable": true
   },
   "outputs": [],
   "source": [
    "import theano\n",
    "import theano.tensor as T \n",
    "import numpy as np\n",
    "import matplotlib.pyplot as plt "
   ]
  },
  {
   "cell_type": "code",
   "execution_count": 16,
   "metadata": {
    "collapsed": false,
    "deletable": true,
    "editable": true,
    "scrolled": false
   },
   "outputs": [],
   "source": [
    "import theano\n",
    "import theano.tensor as T\n",
    "import numpy as np\n",
    "import matplotlib.pyplot as plt\n",
    "\n",
    "from sklearn.utils import shuffle\n",
    "from util import init_weight, all_parity_pairs_with_sequence_labels\n",
    "\n",
    "\n",
    "class SimpleRNN:\n",
    "    def __init__(self, M):\n",
    "        self.M = M # hidden layer size\n",
    "\n",
    "    def fit(self, X, Y, learning_rate=10e-1, mu=0.99, reg=1.0, activation=T.tanh, epochs=100, show_fig=False):\n",
    "        D = X[0].shape[1] # X is of size N x T(n) x D\n",
    "        K = len(set(Y.flatten()))\n",
    "        N = len(Y)\n",
    "        M = self.M\n",
    "        self.f = activation\n",
    "\n",
    "        # initial weights\n",
    "        Wx = init_weight(D, M)\n",
    "        Wh = init_weight(M, M)\n",
    "        bh = np.zeros(M)\n",
    "        h0 = np.zeros(M)\n",
    "        Wo = init_weight(M, K)\n",
    "        bo = np.zeros(K)\n",
    "\n",
    "        # make them theano shared\n",
    "        self.Wx = theano.shared(Wx)\n",
    "        self.Wh = theano.shared(Wh)\n",
    "        self.bh = theano.shared(bh)\n",
    "        self.h0 = theano.shared(h0)\n",
    "        self.Wo = theano.shared(Wo)\n",
    "        self.bo = theano.shared(bo)\n",
    "        self.params = [self.Wx, self.Wh, self.bh, self.h0, self.Wo, self.bo]\n",
    "\n",
    "        thX = T.fmatrix('X')\n",
    "        thY = T.ivector('Y')\n",
    "\n",
    "        def recurrence(x_t, h_t1):\n",
    "            h_t = self.f(x_t.dot(self.Wx) + h_t1.dot(self.Wh) + self.bh)\n",
    "            y_t = T.nnet.softmax(h_t.dot(self.Wo) + self.bo)\n",
    "            return h_t, y_t\n",
    "\n",
    "        [h, y], _ = theano.scan(\n",
    "            fn=recurrence,\n",
    "            outputs_info=[self.h0, None],\n",
    "            sequences=thX,\n",
    "            n_steps=thX.shape[0],\n",
    "        )\n",
    "\n",
    "        py_x = y[:, 0, :]\n",
    "        prediction = T.argmax(py_x, axis=1)\n",
    "\n",
    "        cost = -T.mean(T.log(py_x[T.arange(thY.shape[0]), thY]))\n",
    "        grads = T.grad(cost, self.params)\n",
    "        dparams = [theano.shared(p.get_value()*0) for p in self.params]\n",
    "\n",
    "        updates = [\n",
    "            (p, p + mu*dp - learning_rate*g) for p, dp, g in zip(self.params, dparams, grads)\n",
    "        ] + [\n",
    "            (dp, mu*dp - learning_rate*g) for dp, g in zip(dparams, grads)\n",
    "        ]\n",
    "\n",
    "        self.predict_op = theano.function(inputs=[thX], outputs=prediction)\n",
    "        self.train_op = theano.function(\n",
    "            inputs=[thX, thY],\n",
    "            outputs=[cost, prediction, y],\n",
    "            updates=updates\n",
    "        )\n",
    "\n",
    "        costs = []\n",
    "        for i in xrange(epochs):\n",
    "            X, Y = shuffle(X, Y)\n",
    "            n_correct = 0\n",
    "            cost = 0\n",
    "            for j in xrange(N):\n",
    "                c, p, rout = self.train_op(X[j], Y[j])\n",
    "                cost += c\n",
    "                if p[-1] == Y[j,-1]:\n",
    "                    n_correct += 1\n",
    "            print \"i:\", i, \"cost:\", cost, \"classification rate:\", (float(n_correct)/N)\n",
    "            costs.append(cost)\n",
    "            if n_correct == N:\n",
    "                break\n",
    "\n",
    "        if show_fig:\n",
    "            plt.plot(costs)\n",
    "            plt.show()\n",
    "\n",
    "\n",
    "def parity(B=12, learning_rate=10e-5, epochs=200):\n",
    "    X, Y = all_parity_pairs_with_sequence_labels(B)\n",
    "\n",
    "    rnn = SimpleRNN(4)\n",
    "    rnn.fit(X, Y, learning_rate=learning_rate, epochs=epochs, activation=T.nnet.sigmoid, show_fig=False)  \n",
    "    return rnn"
   ]
  },
  {
   "cell_type": "code",
   "execution_count": null,
   "metadata": {
    "collapsed": false,
    "deletable": true,
    "editable": true
   },
   "outputs": [
    {
     "name": "stdout",
     "output_type": "stream",
     "text": [
      "i: 0 cost: 2842.6934151 classification rate: 0.504146341463\n",
      "i: 1 cost: 2839.21896554 classification rate: 0.498536585366\n",
      "i: 2 cost: 2836.27609881 classification rate: 0.5\n",
      "i: 3 cost: 2833.38878307 classification rate: 0.499268292683\n",
      "i: 4 cost: 2831.77397132 classification rate: 0.5\n",
      "i: 5 cost: 2830.10101779 classification rate: 0.5\n",
      "i: 6 cost: 2829.53522473 classification rate: 0.5\n",
      "i: 7 cost: 2828.8779769 classification rate: 0.5\n",
      "i: 8 cost: 2829.06817215 classification rate: 0.5\n",
      "i: 9 cost: 2829.01570062 classification rate: 0.5\n",
      "i: 10 cost: 2828.84086757 classification rate: 0.5\n",
      "i: 11 cost: 2828.48639747 classification rate: 0.5\n",
      "i: 12 cost: 2828.02780118 classification rate: 0.5\n",
      "i: 13 cost: 2828.38075468 classification rate: 0.5\n",
      "i: 14 cost: 2828.65679666 classification rate: 0.5\n",
      "i: 15 cost: 2828.18672178 classification rate: 0.5\n",
      "i: 16 cost: 2827.95030588 classification rate: 0.5\n",
      "i: 17 cost: 2828.07416181 classification rate: 0.5\n",
      "i: 18 cost: 2827.85356883 classification rate: 0.5\n",
      "i: 19 cost: 2827.81494852 classification rate: 0.5\n",
      "i: 20 cost: 2827.72603054 classification rate: 0.5\n",
      "i: 21 cost: 2827.57879115 classification rate: 0.5\n",
      "i: 22 cost: 2827.76776681 classification rate: 0.5\n",
      "i: 23 cost: 2827.29550436 classification rate: 0.5\n",
      "i: 24 cost: 2827.02877738 classification rate: 0.5\n",
      "i: 25 cost: 2826.83509177 classification rate: 0.5\n",
      "i: 26 cost: 2826.38000149 classification rate: 0.5\n",
      "i: 27 cost: 2826.38190448 classification rate: 0.5\n",
      "i: 28 cost: 2825.73967508 classification rate: 0.5\n",
      "i: 29 cost: 2825.17642512 classification rate: 0.5\n",
      "i: 30 cost: 2824.83641813 classification rate: 0.5\n",
      "i: 31 cost: 2824.26532243 classification rate: 0.5\n",
      "i: 32 cost: 2822.91217428 classification rate: 0.5\n",
      "i: 33 cost: 2821.7316865 classification rate: 0.5\n",
      "i: 34 cost: 2819.69580768 classification rate: 0.5\n",
      "i: 35 cost: 2817.80392392 classification rate: 0.5\n"
     ]
    }
   ],
   "source": [
    "rnn = parity()"
   ]
  },
  {
   "cell_type": "code",
   "execution_count": 15,
   "metadata": {
    "collapsed": false
   },
   "outputs": [
    {
     "data": {
      "text/plain": [
       "array([1, 1, 0, 0, 1])"
      ]
     },
     "execution_count": 15,
     "metadata": {},
     "output_type": "execute_result"
    }
   ],
   "source": [
    "rnn.predict_op(np.array([1, 0, 1, 0, 1], dtype=np.float32).reshape(-1, 1))"
   ]
  },
  {
   "cell_type": "code",
   "execution_count": null,
   "metadata": {
    "collapsed": true
   },
   "outputs": [],
   "source": []
  }
 ],
 "metadata": {
  "kernelspec": {
   "display_name": "deep_learning_kernel",
   "language": "python",
   "name": "deep_learning_kernel"
  },
  "language_info": {
   "codemirror_mode": {
    "name": "ipython",
    "version": 2
   },
   "file_extension": ".py",
   "mimetype": "text/x-python",
   "name": "python",
   "nbconvert_exporter": "python",
   "pygments_lexer": "ipython2",
   "version": "2.7.12"
  }
 },
 "nbformat": 4,
 "nbformat_minor": 2
}
